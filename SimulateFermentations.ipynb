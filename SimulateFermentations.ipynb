{
 "cells": [
  {
   "cell_type": "code",
   "execution_count": 1,
   "id": "ab6f0794-4241-458a-b0a2-ac786ff6c0fd",
   "metadata": {},
   "outputs": [
    {
     "name": "stderr",
     "output_type": "stream",
     "text": [
      "/home/kevindunn/.local/lib/python3.9/site-packages/jupyter_client/session.py:716: UserWarning:\n",
      "\n",
      "Message serialization failed with:\n",
      "Out of range float values are not JSON compliant\n",
      "Supporting this message is deprecated in jupyter-client 7, please make sure your message is JSON-compliant\n",
      "\n"
     ]
    }
   ],
   "source": [
    "from user_interface import create_user_interface\n",
    "%load_ext autoreload\n",
    "%autoreload 2"
   ]
  },
  {
   "cell_type": "code",
   "execution_count": 4,
   "id": "5b99615b-8963-4d05-aa6b-55519551f27e",
   "metadata": {},
   "outputs": [
    {
     "data": {
      "application/vnd.jupyter.widget-view+json": {
       "model_id": "bac9c7c3139142a5a3aba61558895caf",
       "version_major": 2,
       "version_minor": 0
      },
      "text/plain": [
       "VBox(children=(Box(children=(Sheet(cells=(Cell(column_end=0, column_start=0, row_end=6, row_start=0, squeeze_r…"
      ]
     },
     "metadata": {},
     "output_type": "display_data"
    }
   ],
   "source": [
    "create_user_interface()"
   ]
  },
  {
   "cell_type": "code",
   "execution_count": null,
   "id": "8a84f5d9-e695-4075-9703-4884bb7e89a9",
   "metadata": {},
   "outputs": [],
   "source": []
  },
  {
   "cell_type": "code",
   "execution_count": null,
   "id": "1582dd1f-131f-4876-9d63-a7d6500985b5",
   "metadata": {
    "lines_to_next_cell": 2,
    "tags": []
   },
   "outputs": [],
   "source": []
  },
  {
   "cell_type": "code",
   "execution_count": 3,
   "id": "9ea3ad68-3c7d-4035-93bd-75f987a466ba",
   "metadata": {
    "lines_to_next_cell": 0
   },
   "outputs": [],
   "source": [
    "# TODO \n",
    "# -----\n",
    "# Make line thickness go inversely proportional to the scenario\n",
    "# Check the glucose flow; is it registering?\n",
    "# Exponential vs linear: checkbox\n",
    "# Add checks to turn/off certain plots\n",
    "# Add the spikes to the plots\n",
    "# Add mass transfer to the models"
   ]
  },
  {
   "cell_type": "code",
   "execution_count": null,
   "id": "3b3c6eab-3303-4f6a-a0a3-17afd30b36da",
   "metadata": {
    "lines_to_next_cell": 2
   },
   "outputs": [],
   "source": []
  }
 ],
 "metadata": {
  "jupytext": {
   "encoding": "# -*- coding: utf-8 -*-",
   "formats": "ipynb,py:light"
  },
  "kernelspec": {
   "display_name": "Python 3 (ipykernel)",
   "language": "python",
   "name": "python3"
  },
  "language_info": {
   "codemirror_mode": {
    "name": "ipython",
    "version": 3
   },
   "file_extension": ".py",
   "mimetype": "text/x-python",
   "name": "python",
   "nbconvert_exporter": "python",
   "pygments_lexer": "ipython3",
   "version": "3.9.6"
  }
 },
 "nbformat": 4,
 "nbformat_minor": 5
}
