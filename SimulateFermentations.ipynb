{
 "cells": [
  {
   "cell_type": "code",
   "execution_count": null,
   "id": "749c9042",
   "metadata": {},
   "outputs": [],
   "source": [
    "# Click the    >>   icon in the menu bar above to start the notebook. Wait a few seconds for it to load.\n",
    "# -------------------------------------------------------------------------------------------------------\n",
    "\n",
    "from user_interface import create_user_interface"
   ]
  },
  {
   "cell_type": "markdown",
   "id": "866c23f4",
   "metadata": {},
   "source": [
    "-"
   ]
  },
  {
   "cell_type": "code",
   "execution_count": null,
   "id": "ab6f0794-4241-458a-b0a2-ac786ff6c0fd",
   "metadata": {},
   "outputs": [],
   "source": [
    "%load_ext autoreload\n",
    "%autoreload 2"
   ]
  },
  {
   "cell_type": "code",
   "execution_count": null,
   "id": "5b99615b-8963-4d05-aa6b-55519551f27e",
   "metadata": {},
   "outputs": [],
   "source": [
    "create_user_interface()"
   ]
  },
  {
   "cell_type": "code",
   "execution_count": null,
   "id": "e924d114-839b-4ab8-8557-ab7b1a569f96",
   "metadata": {},
   "outputs": [],
   "source": []
  }
 ],
 "metadata": {
  "jupytext": {
   "encoding": "# -*- coding: utf-8 -*-",
   "formats": "ipynb,py:light"
  },
  "kernelspec": {
   "display_name": "Python 3",
   "language": "python",
   "name": "python3"
  },
  "language_info": {
   "codemirror_mode": {
    "name": "ipython",
    "version": 3
   },
   "file_extension": ".py",
   "mimetype": "text/x-python",
   "name": "python",
   "nbconvert_exporter": "python",
   "pygments_lexer": "ipython3",
   "version": "3.7.10"
  }
 },
 "nbformat": 4,
 "nbformat_minor": 5
}
